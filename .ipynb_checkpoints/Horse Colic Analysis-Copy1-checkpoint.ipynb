{
 "cells": [
  {
   "cell_type": "code",
   "execution_count": 4,
   "id": "ee269128",
   "metadata": {},
   "outputs": [],
   "source": [
    "#Import libraries\n",
    "import pandas as pd\n",
    "import numpy as np\n",
    "import matplotlib.pyplot as plt\n",
    "import seaborn as sns\n",
    "%matplotlib inline"
   ]
  },
  {
   "cell_type": "markdown",
   "id": "fb1d49aa",
   "metadata": {},
   "source": [
    "# Introduction"
   ]
  },
  {
   "cell_type": "markdown",
   "id": "46ee9a38",
   "metadata": {},
   "source": [
    "## Dataset\n",
    "This dataset has been sourced from Kaggle:\n",
    "https://www.kaggle.com/uciml/horse-colic\n",
    "\n",
    "It contains typical equine colic symptoms as well as the outcome after the colic.\n",
    "\n",
    "There is one CSV file (horse.csv) and a data dictionary that can can be found in the same folder (datadict.txt)\n",
    "\n",
    "## What is equine colic\n",
    "\n",
    "Colic in horses is defined as abdominal pain, but it is a clinical symptom rather than a diagnosis. The term colic can encompass all forms of gastrointestinal conditions which cause pain as well as other causes of abdominal pain not involving the gastrointestinal tract. (Source: Wikipedia)\n",
    "\n",
    "## Questions for this analysis\n",
    "In this analysis, I will aim to answer three business questions based on the data:\n",
    "- According to this dataset, what are the colic survival rates of younger horses compared to older horses ?\n",
    "- Will colic surgery always save my horse's life ?\n",
    "- Which of the vital signs or symptoms, that I can check as a horse owner, are the best indicators that my horse might require surgery ?\n",
    "\n",
    "\n",
    "## Data Cleaning and wrangling\n",
    "I will approach this as a unique process for each question, as we have unique features involved in answering each questions, and in some cases imputation and cleaning are required, and in some cases not"
   ]
  },
  {
   "cell_type": "markdown",
   "id": "bcaea6cb",
   "metadata": {},
   "source": [
    "# Read in data and initial exploration"
   ]
  },
  {
   "cell_type": "code",
   "execution_count": 5,
   "id": "1c669bd1",
   "metadata": {},
   "outputs": [
    {
     "data": {
      "text/html": [
       "<div>\n",
       "<style scoped>\n",
       "    .dataframe tbody tr th:only-of-type {\n",
       "        vertical-align: middle;\n",
       "    }\n",
       "\n",
       "    .dataframe tbody tr th {\n",
       "        vertical-align: top;\n",
       "    }\n",
       "\n",
       "    .dataframe thead th {\n",
       "        text-align: right;\n",
       "    }\n",
       "</style>\n",
       "<table border=\"1\" class=\"dataframe\">\n",
       "  <thead>\n",
       "    <tr style=\"text-align: right;\">\n",
       "      <th></th>\n",
       "      <th>surgery</th>\n",
       "      <th>age</th>\n",
       "      <th>hospital_number</th>\n",
       "      <th>rectal_temp</th>\n",
       "      <th>pulse</th>\n",
       "      <th>respiratory_rate</th>\n",
       "      <th>temp_of_extremities</th>\n",
       "      <th>peripheral_pulse</th>\n",
       "      <th>mucous_membrane</th>\n",
       "      <th>capillary_refill_time</th>\n",
       "      <th>...</th>\n",
       "      <th>packed_cell_volume</th>\n",
       "      <th>total_protein</th>\n",
       "      <th>abdomo_appearance</th>\n",
       "      <th>abdomo_protein</th>\n",
       "      <th>outcome</th>\n",
       "      <th>surgical_lesion</th>\n",
       "      <th>lesion_1</th>\n",
       "      <th>lesion_2</th>\n",
       "      <th>lesion_3</th>\n",
       "      <th>cp_data</th>\n",
       "    </tr>\n",
       "  </thead>\n",
       "  <tbody>\n",
       "    <tr>\n",
       "      <th>0</th>\n",
       "      <td>no</td>\n",
       "      <td>adult</td>\n",
       "      <td>530101</td>\n",
       "      <td>38.5</td>\n",
       "      <td>66.0</td>\n",
       "      <td>28.0</td>\n",
       "      <td>cool</td>\n",
       "      <td>reduced</td>\n",
       "      <td>NaN</td>\n",
       "      <td>more_3_sec</td>\n",
       "      <td>...</td>\n",
       "      <td>45.0</td>\n",
       "      <td>8.4</td>\n",
       "      <td>NaN</td>\n",
       "      <td>NaN</td>\n",
       "      <td>died</td>\n",
       "      <td>no</td>\n",
       "      <td>11300</td>\n",
       "      <td>0</td>\n",
       "      <td>0</td>\n",
       "      <td>no</td>\n",
       "    </tr>\n",
       "    <tr>\n",
       "      <th>1</th>\n",
       "      <td>yes</td>\n",
       "      <td>adult</td>\n",
       "      <td>534817</td>\n",
       "      <td>39.2</td>\n",
       "      <td>88.0</td>\n",
       "      <td>20.0</td>\n",
       "      <td>NaN</td>\n",
       "      <td>NaN</td>\n",
       "      <td>pale_cyanotic</td>\n",
       "      <td>less_3_sec</td>\n",
       "      <td>...</td>\n",
       "      <td>50.0</td>\n",
       "      <td>85.0</td>\n",
       "      <td>cloudy</td>\n",
       "      <td>2.0</td>\n",
       "      <td>euthanized</td>\n",
       "      <td>no</td>\n",
       "      <td>2208</td>\n",
       "      <td>0</td>\n",
       "      <td>0</td>\n",
       "      <td>no</td>\n",
       "    </tr>\n",
       "    <tr>\n",
       "      <th>2</th>\n",
       "      <td>no</td>\n",
       "      <td>adult</td>\n",
       "      <td>530334</td>\n",
       "      <td>38.3</td>\n",
       "      <td>40.0</td>\n",
       "      <td>24.0</td>\n",
       "      <td>normal</td>\n",
       "      <td>normal</td>\n",
       "      <td>pale_pink</td>\n",
       "      <td>less_3_sec</td>\n",
       "      <td>...</td>\n",
       "      <td>33.0</td>\n",
       "      <td>6.7</td>\n",
       "      <td>NaN</td>\n",
       "      <td>NaN</td>\n",
       "      <td>lived</td>\n",
       "      <td>no</td>\n",
       "      <td>0</td>\n",
       "      <td>0</td>\n",
       "      <td>0</td>\n",
       "      <td>yes</td>\n",
       "    </tr>\n",
       "    <tr>\n",
       "      <th>3</th>\n",
       "      <td>yes</td>\n",
       "      <td>young</td>\n",
       "      <td>5290409</td>\n",
       "      <td>39.1</td>\n",
       "      <td>164.0</td>\n",
       "      <td>84.0</td>\n",
       "      <td>cold</td>\n",
       "      <td>normal</td>\n",
       "      <td>dark_cyanotic</td>\n",
       "      <td>more_3_sec</td>\n",
       "      <td>...</td>\n",
       "      <td>48.0</td>\n",
       "      <td>7.2</td>\n",
       "      <td>serosanguious</td>\n",
       "      <td>5.3</td>\n",
       "      <td>died</td>\n",
       "      <td>yes</td>\n",
       "      <td>2208</td>\n",
       "      <td>0</td>\n",
       "      <td>0</td>\n",
       "      <td>yes</td>\n",
       "    </tr>\n",
       "    <tr>\n",
       "      <th>4</th>\n",
       "      <td>no</td>\n",
       "      <td>adult</td>\n",
       "      <td>530255</td>\n",
       "      <td>37.3</td>\n",
       "      <td>104.0</td>\n",
       "      <td>35.0</td>\n",
       "      <td>NaN</td>\n",
       "      <td>NaN</td>\n",
       "      <td>dark_cyanotic</td>\n",
       "      <td>more_3_sec</td>\n",
       "      <td>...</td>\n",
       "      <td>74.0</td>\n",
       "      <td>7.4</td>\n",
       "      <td>NaN</td>\n",
       "      <td>NaN</td>\n",
       "      <td>died</td>\n",
       "      <td>no</td>\n",
       "      <td>4300</td>\n",
       "      <td>0</td>\n",
       "      <td>0</td>\n",
       "      <td>no</td>\n",
       "    </tr>\n",
       "  </tbody>\n",
       "</table>\n",
       "<p>5 rows × 28 columns</p>\n",
       "</div>"
      ],
      "text/plain": [
       "  surgery    age  hospital_number  rectal_temp  pulse  respiratory_rate  \\\n",
       "0      no  adult           530101         38.5   66.0              28.0   \n",
       "1     yes  adult           534817         39.2   88.0              20.0   \n",
       "2      no  adult           530334         38.3   40.0              24.0   \n",
       "3     yes  young          5290409         39.1  164.0              84.0   \n",
       "4      no  adult           530255         37.3  104.0              35.0   \n",
       "\n",
       "  temp_of_extremities peripheral_pulse mucous_membrane capillary_refill_time  \\\n",
       "0                cool          reduced             NaN            more_3_sec   \n",
       "1                 NaN              NaN   pale_cyanotic            less_3_sec   \n",
       "2              normal           normal       pale_pink            less_3_sec   \n",
       "3                cold           normal   dark_cyanotic            more_3_sec   \n",
       "4                 NaN              NaN   dark_cyanotic            more_3_sec   \n",
       "\n",
       "   ... packed_cell_volume total_protein abdomo_appearance abdomo_protein  \\\n",
       "0  ...               45.0           8.4               NaN            NaN   \n",
       "1  ...               50.0          85.0            cloudy            2.0   \n",
       "2  ...               33.0           6.7               NaN            NaN   \n",
       "3  ...               48.0           7.2     serosanguious            5.3   \n",
       "4  ...               74.0           7.4               NaN            NaN   \n",
       "\n",
       "      outcome  surgical_lesion lesion_1 lesion_2  lesion_3  cp_data  \n",
       "0        died               no    11300        0         0       no  \n",
       "1  euthanized               no     2208        0         0       no  \n",
       "2       lived               no        0        0         0      yes  \n",
       "3        died              yes     2208        0         0      yes  \n",
       "4        died               no     4300        0         0       no  \n",
       "\n",
       "[5 rows x 28 columns]"
      ]
     },
     "execution_count": 5,
     "metadata": {},
     "output_type": "execute_result"
    }
   ],
   "source": [
    "horse_dataset=pd.read_csv(\"horse.csv\")\n",
    "horse_dataset.head()"
   ]
  },
  {
   "cell_type": "code",
   "execution_count": 6,
   "id": "33dbff41",
   "metadata": {},
   "outputs": [
    {
     "data": {
      "text/plain": [
       "(299, 28)"
      ]
     },
     "execution_count": 6,
     "metadata": {},
     "output_type": "execute_result"
    }
   ],
   "source": [
    "#How big is the dataset ?\n",
    "horse_dataset.shape"
   ]
  },
  {
   "cell_type": "code",
   "execution_count": 7,
   "id": "e7d27f8a",
   "metadata": {},
   "outputs": [
    {
     "name": "stdout",
     "output_type": "stream",
     "text": [
      "<class 'pandas.core.frame.DataFrame'>\n",
      "RangeIndex: 299 entries, 0 to 298\n",
      "Data columns (total 28 columns):\n",
      " #   Column                 Non-Null Count  Dtype  \n",
      "---  ------                 --------------  -----  \n",
      " 0   surgery                299 non-null    object \n",
      " 1   age                    299 non-null    object \n",
      " 2   hospital_number        299 non-null    int64  \n",
      " 3   rectal_temp            239 non-null    float64\n",
      " 4   pulse                  275 non-null    float64\n",
      " 5   respiratory_rate       241 non-null    float64\n",
      " 6   temp_of_extremities    243 non-null    object \n",
      " 7   peripheral_pulse       230 non-null    object \n",
      " 8   mucous_membrane        252 non-null    object \n",
      " 9   capillary_refill_time  267 non-null    object \n",
      " 10  pain                   244 non-null    object \n",
      " 11  peristalsis            255 non-null    object \n",
      " 12  abdominal_distention   243 non-null    object \n",
      " 13  nasogastric_tube       195 non-null    object \n",
      " 14  nasogastric_reflux     193 non-null    object \n",
      " 15  nasogastric_reflux_ph  53 non-null     float64\n",
      " 16  rectal_exam_feces      197 non-null    object \n",
      " 17  abdomen                181 non-null    object \n",
      " 18  packed_cell_volume     270 non-null    float64\n",
      " 19  total_protein          266 non-null    float64\n",
      " 20  abdomo_appearance      134 non-null    object \n",
      " 21  abdomo_protein         101 non-null    float64\n",
      " 22  outcome                299 non-null    object \n",
      " 23  surgical_lesion        299 non-null    object \n",
      " 24  lesion_1               299 non-null    int64  \n",
      " 25  lesion_2               299 non-null    int64  \n",
      " 26  lesion_3               299 non-null    int64  \n",
      " 27  cp_data                299 non-null    object \n",
      "dtypes: float64(7), int64(4), object(17)\n",
      "memory usage: 65.5+ KB\n"
     ]
    }
   ],
   "source": [
    "#Which datatypes does it currently have ?\n",
    "horse_dataset.info()"
   ]
  },
  {
   "cell_type": "code",
   "execution_count": 8,
   "id": "c76c8d47",
   "metadata": {},
   "outputs": [
    {
     "data": {
      "text/html": [
       "<div>\n",
       "<style scoped>\n",
       "    .dataframe tbody tr th:only-of-type {\n",
       "        vertical-align: middle;\n",
       "    }\n",
       "\n",
       "    .dataframe tbody tr th {\n",
       "        vertical-align: top;\n",
       "    }\n",
       "\n",
       "    .dataframe thead th {\n",
       "        text-align: right;\n",
       "    }\n",
       "</style>\n",
       "<table border=\"1\" class=\"dataframe\">\n",
       "  <thead>\n",
       "    <tr style=\"text-align: right;\">\n",
       "      <th></th>\n",
       "      <th>hospital_number</th>\n",
       "      <th>rectal_temp</th>\n",
       "      <th>pulse</th>\n",
       "      <th>respiratory_rate</th>\n",
       "      <th>nasogastric_reflux_ph</th>\n",
       "      <th>packed_cell_volume</th>\n",
       "      <th>total_protein</th>\n",
       "      <th>abdomo_protein</th>\n",
       "      <th>lesion_1</th>\n",
       "      <th>lesion_2</th>\n",
       "      <th>lesion_3</th>\n",
       "    </tr>\n",
       "  </thead>\n",
       "  <tbody>\n",
       "    <tr>\n",
       "      <th>count</th>\n",
       "      <td>2.990000e+02</td>\n",
       "      <td>239.000000</td>\n",
       "      <td>275.000000</td>\n",
       "      <td>241.000000</td>\n",
       "      <td>53.000000</td>\n",
       "      <td>270.000000</td>\n",
       "      <td>266.000000</td>\n",
       "      <td>101.000000</td>\n",
       "      <td>299.000000</td>\n",
       "      <td>299.000000</td>\n",
       "      <td>299.000000</td>\n",
       "    </tr>\n",
       "    <tr>\n",
       "      <th>mean</th>\n",
       "      <td>1.087733e+06</td>\n",
       "      <td>38.168619</td>\n",
       "      <td>72.000000</td>\n",
       "      <td>30.460581</td>\n",
       "      <td>4.707547</td>\n",
       "      <td>46.307407</td>\n",
       "      <td>24.274436</td>\n",
       "      <td>3.039604</td>\n",
       "      <td>3659.709030</td>\n",
       "      <td>90.528428</td>\n",
       "      <td>7.387960</td>\n",
       "    </tr>\n",
       "    <tr>\n",
       "      <th>std</th>\n",
       "      <td>1.532032e+06</td>\n",
       "      <td>0.733744</td>\n",
       "      <td>28.646219</td>\n",
       "      <td>17.666102</td>\n",
       "      <td>1.982311</td>\n",
       "      <td>10.436743</td>\n",
       "      <td>27.364194</td>\n",
       "      <td>1.967947</td>\n",
       "      <td>5408.472421</td>\n",
       "      <td>650.637139</td>\n",
       "      <td>127.749768</td>\n",
       "    </tr>\n",
       "    <tr>\n",
       "      <th>min</th>\n",
       "      <td>5.184760e+05</td>\n",
       "      <td>35.400000</td>\n",
       "      <td>30.000000</td>\n",
       "      <td>8.000000</td>\n",
       "      <td>1.000000</td>\n",
       "      <td>23.000000</td>\n",
       "      <td>3.300000</td>\n",
       "      <td>0.100000</td>\n",
       "      <td>0.000000</td>\n",
       "      <td>0.000000</td>\n",
       "      <td>0.000000</td>\n",
       "    </tr>\n",
       "    <tr>\n",
       "      <th>25%</th>\n",
       "      <td>5.289040e+05</td>\n",
       "      <td>37.800000</td>\n",
       "      <td>48.000000</td>\n",
       "      <td>18.000000</td>\n",
       "      <td>3.000000</td>\n",
       "      <td>38.000000</td>\n",
       "      <td>6.500000</td>\n",
       "      <td>2.000000</td>\n",
       "      <td>2111.500000</td>\n",
       "      <td>0.000000</td>\n",
       "      <td>0.000000</td>\n",
       "    </tr>\n",
       "    <tr>\n",
       "      <th>50%</th>\n",
       "      <td>5.303010e+05</td>\n",
       "      <td>38.200000</td>\n",
       "      <td>64.000000</td>\n",
       "      <td>25.000000</td>\n",
       "      <td>5.000000</td>\n",
       "      <td>45.000000</td>\n",
       "      <td>7.500000</td>\n",
       "      <td>2.300000</td>\n",
       "      <td>2322.000000</td>\n",
       "      <td>0.000000</td>\n",
       "      <td>0.000000</td>\n",
       "    </tr>\n",
       "    <tr>\n",
       "      <th>75%</th>\n",
       "      <td>5.347360e+05</td>\n",
       "      <td>38.500000</td>\n",
       "      <td>88.000000</td>\n",
       "      <td>36.000000</td>\n",
       "      <td>6.500000</td>\n",
       "      <td>52.000000</td>\n",
       "      <td>56.750000</td>\n",
       "      <td>3.900000</td>\n",
       "      <td>3209.000000</td>\n",
       "      <td>0.000000</td>\n",
       "      <td>0.000000</td>\n",
       "    </tr>\n",
       "    <tr>\n",
       "      <th>max</th>\n",
       "      <td>5.305629e+06</td>\n",
       "      <td>40.800000</td>\n",
       "      <td>184.000000</td>\n",
       "      <td>96.000000</td>\n",
       "      <td>7.500000</td>\n",
       "      <td>75.000000</td>\n",
       "      <td>89.000000</td>\n",
       "      <td>10.100000</td>\n",
       "      <td>41110.000000</td>\n",
       "      <td>7111.000000</td>\n",
       "      <td>2209.000000</td>\n",
       "    </tr>\n",
       "  </tbody>\n",
       "</table>\n",
       "</div>"
      ],
      "text/plain": [
       "       hospital_number  rectal_temp       pulse  respiratory_rate  \\\n",
       "count     2.990000e+02   239.000000  275.000000        241.000000   \n",
       "mean      1.087733e+06    38.168619   72.000000         30.460581   \n",
       "std       1.532032e+06     0.733744   28.646219         17.666102   \n",
       "min       5.184760e+05    35.400000   30.000000          8.000000   \n",
       "25%       5.289040e+05    37.800000   48.000000         18.000000   \n",
       "50%       5.303010e+05    38.200000   64.000000         25.000000   \n",
       "75%       5.347360e+05    38.500000   88.000000         36.000000   \n",
       "max       5.305629e+06    40.800000  184.000000         96.000000   \n",
       "\n",
       "       nasogastric_reflux_ph  packed_cell_volume  total_protein  \\\n",
       "count              53.000000          270.000000     266.000000   \n",
       "mean                4.707547           46.307407      24.274436   \n",
       "std                 1.982311           10.436743      27.364194   \n",
       "min                 1.000000           23.000000       3.300000   \n",
       "25%                 3.000000           38.000000       6.500000   \n",
       "50%                 5.000000           45.000000       7.500000   \n",
       "75%                 6.500000           52.000000      56.750000   \n",
       "max                 7.500000           75.000000      89.000000   \n",
       "\n",
       "       abdomo_protein      lesion_1     lesion_2     lesion_3  \n",
       "count      101.000000    299.000000   299.000000   299.000000  \n",
       "mean         3.039604   3659.709030    90.528428     7.387960  \n",
       "std          1.967947   5408.472421   650.637139   127.749768  \n",
       "min          0.100000      0.000000     0.000000     0.000000  \n",
       "25%          2.000000   2111.500000     0.000000     0.000000  \n",
       "50%          2.300000   2322.000000     0.000000     0.000000  \n",
       "75%          3.900000   3209.000000     0.000000     0.000000  \n",
       "max         10.100000  41110.000000  7111.000000  2209.000000  "
      ]
     },
     "execution_count": 8,
     "metadata": {},
     "output_type": "execute_result"
    }
   ],
   "source": [
    "horse_dataset.describe()"
   ]
  },
  {
   "cell_type": "code",
   "execution_count": 9,
   "id": "fe3111fa",
   "metadata": {},
   "outputs": [
    {
     "data": {
      "text/html": [
       "<div>\n",
       "<style scoped>\n",
       "    .dataframe tbody tr th:only-of-type {\n",
       "        vertical-align: middle;\n",
       "    }\n",
       "\n",
       "    .dataframe tbody tr th {\n",
       "        vertical-align: top;\n",
       "    }\n",
       "\n",
       "    .dataframe thead th {\n",
       "        text-align: right;\n",
       "    }\n",
       "</style>\n",
       "<table border=\"1\" class=\"dataframe\">\n",
       "  <thead>\n",
       "    <tr style=\"text-align: right;\">\n",
       "      <th></th>\n",
       "      <th>surgery</th>\n",
       "      <th>age</th>\n",
       "      <th>hospital_number</th>\n",
       "      <th>rectal_temp</th>\n",
       "      <th>pulse</th>\n",
       "      <th>respiratory_rate</th>\n",
       "      <th>temp_of_extremities</th>\n",
       "      <th>peripheral_pulse</th>\n",
       "      <th>mucous_membrane</th>\n",
       "      <th>capillary_refill_time</th>\n",
       "      <th>...</th>\n",
       "      <th>total_protein</th>\n",
       "      <th>abdomo_appearance</th>\n",
       "      <th>abdomo_protein</th>\n",
       "      <th>outcome</th>\n",
       "      <th>surgical_lesion</th>\n",
       "      <th>lesion_1</th>\n",
       "      <th>lesion_2</th>\n",
       "      <th>lesion_3</th>\n",
       "      <th>cp_data</th>\n",
       "      <th>survived</th>\n",
       "    </tr>\n",
       "  </thead>\n",
       "  <tbody>\n",
       "    <tr>\n",
       "      <th>0</th>\n",
       "      <td>no</td>\n",
       "      <td>adult</td>\n",
       "      <td>530101</td>\n",
       "      <td>38.5</td>\n",
       "      <td>66.0</td>\n",
       "      <td>28.0</td>\n",
       "      <td>cool</td>\n",
       "      <td>reduced</td>\n",
       "      <td>NaN</td>\n",
       "      <td>more_3_sec</td>\n",
       "      <td>...</td>\n",
       "      <td>8.4</td>\n",
       "      <td>NaN</td>\n",
       "      <td>NaN</td>\n",
       "      <td>died</td>\n",
       "      <td>no</td>\n",
       "      <td>11300</td>\n",
       "      <td>0</td>\n",
       "      <td>0</td>\n",
       "      <td>no</td>\n",
       "      <td>0</td>\n",
       "    </tr>\n",
       "    <tr>\n",
       "      <th>1</th>\n",
       "      <td>yes</td>\n",
       "      <td>adult</td>\n",
       "      <td>534817</td>\n",
       "      <td>39.2</td>\n",
       "      <td>88.0</td>\n",
       "      <td>20.0</td>\n",
       "      <td>NaN</td>\n",
       "      <td>NaN</td>\n",
       "      <td>pale_cyanotic</td>\n",
       "      <td>less_3_sec</td>\n",
       "      <td>...</td>\n",
       "      <td>85.0</td>\n",
       "      <td>cloudy</td>\n",
       "      <td>2.0</td>\n",
       "      <td>euthanized</td>\n",
       "      <td>no</td>\n",
       "      <td>2208</td>\n",
       "      <td>0</td>\n",
       "      <td>0</td>\n",
       "      <td>no</td>\n",
       "      <td>0</td>\n",
       "    </tr>\n",
       "    <tr>\n",
       "      <th>2</th>\n",
       "      <td>no</td>\n",
       "      <td>adult</td>\n",
       "      <td>530334</td>\n",
       "      <td>38.3</td>\n",
       "      <td>40.0</td>\n",
       "      <td>24.0</td>\n",
       "      <td>normal</td>\n",
       "      <td>normal</td>\n",
       "      <td>pale_pink</td>\n",
       "      <td>less_3_sec</td>\n",
       "      <td>...</td>\n",
       "      <td>6.7</td>\n",
       "      <td>NaN</td>\n",
       "      <td>NaN</td>\n",
       "      <td>lived</td>\n",
       "      <td>no</td>\n",
       "      <td>0</td>\n",
       "      <td>0</td>\n",
       "      <td>0</td>\n",
       "      <td>yes</td>\n",
       "      <td>1</td>\n",
       "    </tr>\n",
       "    <tr>\n",
       "      <th>3</th>\n",
       "      <td>yes</td>\n",
       "      <td>young</td>\n",
       "      <td>5290409</td>\n",
       "      <td>39.1</td>\n",
       "      <td>164.0</td>\n",
       "      <td>84.0</td>\n",
       "      <td>cold</td>\n",
       "      <td>normal</td>\n",
       "      <td>dark_cyanotic</td>\n",
       "      <td>more_3_sec</td>\n",
       "      <td>...</td>\n",
       "      <td>7.2</td>\n",
       "      <td>serosanguious</td>\n",
       "      <td>5.3</td>\n",
       "      <td>died</td>\n",
       "      <td>yes</td>\n",
       "      <td>2208</td>\n",
       "      <td>0</td>\n",
       "      <td>0</td>\n",
       "      <td>yes</td>\n",
       "      <td>0</td>\n",
       "    </tr>\n",
       "    <tr>\n",
       "      <th>4</th>\n",
       "      <td>no</td>\n",
       "      <td>adult</td>\n",
       "      <td>530255</td>\n",
       "      <td>37.3</td>\n",
       "      <td>104.0</td>\n",
       "      <td>35.0</td>\n",
       "      <td>NaN</td>\n",
       "      <td>NaN</td>\n",
       "      <td>dark_cyanotic</td>\n",
       "      <td>more_3_sec</td>\n",
       "      <td>...</td>\n",
       "      <td>7.4</td>\n",
       "      <td>NaN</td>\n",
       "      <td>NaN</td>\n",
       "      <td>died</td>\n",
       "      <td>no</td>\n",
       "      <td>4300</td>\n",
       "      <td>0</td>\n",
       "      <td>0</td>\n",
       "      <td>no</td>\n",
       "      <td>0</td>\n",
       "    </tr>\n",
       "  </tbody>\n",
       "</table>\n",
       "<p>5 rows × 29 columns</p>\n",
       "</div>"
      ],
      "text/plain": [
       "  surgery    age  hospital_number  rectal_temp  pulse  respiratory_rate  \\\n",
       "0      no  adult           530101         38.5   66.0              28.0   \n",
       "1     yes  adult           534817         39.2   88.0              20.0   \n",
       "2      no  adult           530334         38.3   40.0              24.0   \n",
       "3     yes  young          5290409         39.1  164.0              84.0   \n",
       "4      no  adult           530255         37.3  104.0              35.0   \n",
       "\n",
       "  temp_of_extremities peripheral_pulse mucous_membrane capillary_refill_time  \\\n",
       "0                cool          reduced             NaN            more_3_sec   \n",
       "1                 NaN              NaN   pale_cyanotic            less_3_sec   \n",
       "2              normal           normal       pale_pink            less_3_sec   \n",
       "3                cold           normal   dark_cyanotic            more_3_sec   \n",
       "4                 NaN              NaN   dark_cyanotic            more_3_sec   \n",
       "\n",
       "   ... total_protein abdomo_appearance abdomo_protein     outcome  \\\n",
       "0  ...           8.4               NaN            NaN        died   \n",
       "1  ...          85.0            cloudy            2.0  euthanized   \n",
       "2  ...           6.7               NaN            NaN       lived   \n",
       "3  ...           7.2     serosanguious            5.3        died   \n",
       "4  ...           7.4               NaN            NaN        died   \n",
       "\n",
       "  surgical_lesion  lesion_1 lesion_2 lesion_3  cp_data  survived  \n",
       "0              no     11300        0        0       no         0  \n",
       "1              no      2208        0        0       no         0  \n",
       "2              no         0        0        0      yes         1  \n",
       "3             yes      2208        0        0      yes         0  \n",
       "4              no      4300        0        0       no         0  \n",
       "\n",
       "[5 rows x 29 columns]"
      ]
     },
     "execution_count": 9,
     "metadata": {},
     "output_type": "execute_result"
    }
   ],
   "source": [
    "#We will add one extra column, which might be useful in answering two of our questions. If the horse died or was humanely euthanized, it did not survive.\n",
    "#The column will be called 'survived' with 1 or 0 boolean value\n",
    "def horse_survived(row):\n",
    "    if row['outcome']=='lived':\n",
    "        return 1\n",
    "    else:\n",
    "        return 0\n",
    "    \n",
    "horse_dataset['survived'] = horse_dataset.apply (lambda row: horse_survived(row), axis=1)\n",
    "\n",
    "horse_dataset.head()\n",
    "        "
   ]
  },
  {
   "cell_type": "code",
   "execution_count": 10,
   "id": "80ccf4d7",
   "metadata": {},
   "outputs": [
    {
     "data": {
      "text/plain": [
       "1    178\n",
       "0    121\n",
       "Name: survived, dtype: int64"
      ]
     },
     "execution_count": 10,
     "metadata": {},
     "output_type": "execute_result"
    }
   ],
   "source": [
    "#Check our new column's values\n",
    "horse_dataset['survived'].value_counts()"
   ]
  },
  {
   "cell_type": "markdown",
   "id": "0e79073d",
   "metadata": {},
   "source": [
    "# According to this dataset, what are the colic survival rates of younger horses compared to older horses??"
   ]
  },
  {
   "cell_type": "code",
   "execution_count": 11,
   "id": "c17a9ebe",
   "metadata": {},
   "outputs": [
    {
     "data": {
      "text/html": [
       "<div>\n",
       "<style scoped>\n",
       "    .dataframe tbody tr th:only-of-type {\n",
       "        vertical-align: middle;\n",
       "    }\n",
       "\n",
       "    .dataframe tbody tr th {\n",
       "        vertical-align: top;\n",
       "    }\n",
       "\n",
       "    .dataframe thead th {\n",
       "        text-align: right;\n",
       "    }\n",
       "</style>\n",
       "<table border=\"1\" class=\"dataframe\">\n",
       "  <thead>\n",
       "    <tr style=\"text-align: right;\">\n",
       "      <th></th>\n",
       "      <th>age</th>\n",
       "      <th>outcome</th>\n",
       "      <th>survived</th>\n",
       "    </tr>\n",
       "  </thead>\n",
       "  <tbody>\n",
       "    <tr>\n",
       "      <th>0</th>\n",
       "      <td>adult</td>\n",
       "      <td>died</td>\n",
       "      <td>0</td>\n",
       "    </tr>\n",
       "    <tr>\n",
       "      <th>1</th>\n",
       "      <td>adult</td>\n",
       "      <td>euthanized</td>\n",
       "      <td>0</td>\n",
       "    </tr>\n",
       "    <tr>\n",
       "      <th>2</th>\n",
       "      <td>adult</td>\n",
       "      <td>lived</td>\n",
       "      <td>1</td>\n",
       "    </tr>\n",
       "    <tr>\n",
       "      <th>3</th>\n",
       "      <td>young</td>\n",
       "      <td>died</td>\n",
       "      <td>0</td>\n",
       "    </tr>\n",
       "    <tr>\n",
       "      <th>4</th>\n",
       "      <td>adult</td>\n",
       "      <td>died</td>\n",
       "      <td>0</td>\n",
       "    </tr>\n",
       "  </tbody>\n",
       "</table>\n",
       "</div>"
      ],
      "text/plain": [
       "     age     outcome  survived\n",
       "0  adult        died         0\n",
       "1  adult  euthanized         0\n",
       "2  adult       lived         1\n",
       "3  young        died         0\n",
       "4  adult        died         0"
      ]
     },
     "execution_count": 11,
     "metadata": {},
     "output_type": "execute_result"
    }
   ],
   "source": [
    "#To answer this question, we will only require three columns: age, outcome and survived\n",
    "horse_age_outcome=horse_dataset[['age','outcome','survived']]\n",
    "horse_age_outcome.head()"
   ]
  },
  {
   "cell_type": "code",
   "execution_count": 12,
   "id": "10286295",
   "metadata": {},
   "outputs": [
    {
     "data": {
      "text/html": [
       "<div>\n",
       "<style scoped>\n",
       "    .dataframe tbody tr th:only-of-type {\n",
       "        vertical-align: middle;\n",
       "    }\n",
       "\n",
       "    .dataframe tbody tr th {\n",
       "        vertical-align: top;\n",
       "    }\n",
       "\n",
       "    .dataframe thead th {\n",
       "        text-align: right;\n",
       "    }\n",
       "</style>\n",
       "<table border=\"1\" class=\"dataframe\">\n",
       "  <thead>\n",
       "    <tr style=\"text-align: right;\">\n",
       "      <th></th>\n",
       "      <th>survived</th>\n",
       "    </tr>\n",
       "  </thead>\n",
       "  <tbody>\n",
       "    <tr>\n",
       "      <th>count</th>\n",
       "      <td>299.000000</td>\n",
       "    </tr>\n",
       "    <tr>\n",
       "      <th>mean</th>\n",
       "      <td>0.595318</td>\n",
       "    </tr>\n",
       "    <tr>\n",
       "      <th>std</th>\n",
       "      <td>0.491653</td>\n",
       "    </tr>\n",
       "    <tr>\n",
       "      <th>min</th>\n",
       "      <td>0.000000</td>\n",
       "    </tr>\n",
       "    <tr>\n",
       "      <th>25%</th>\n",
       "      <td>0.000000</td>\n",
       "    </tr>\n",
       "    <tr>\n",
       "      <th>50%</th>\n",
       "      <td>1.000000</td>\n",
       "    </tr>\n",
       "    <tr>\n",
       "      <th>75%</th>\n",
       "      <td>1.000000</td>\n",
       "    </tr>\n",
       "    <tr>\n",
       "      <th>max</th>\n",
       "      <td>1.000000</td>\n",
       "    </tr>\n",
       "  </tbody>\n",
       "</table>\n",
       "</div>"
      ],
      "text/plain": [
       "         survived\n",
       "count  299.000000\n",
       "mean     0.595318\n",
       "std      0.491653\n",
       "min      0.000000\n",
       "25%      0.000000\n",
       "50%      1.000000\n",
       "75%      1.000000\n",
       "max      1.000000"
      ]
     },
     "execution_count": 12,
     "metadata": {},
     "output_type": "execute_result"
    }
   ],
   "source": [
    "horse_age_outcome.describe()"
   ]
  },
  {
   "cell_type": "code",
   "execution_count": 13,
   "id": "764edb61",
   "metadata": {},
   "outputs": [
    {
     "data": {
      "text/plain": [
       "{'age', 'outcome', 'survived'}"
      ]
     },
     "execution_count": 13,
     "metadata": {},
     "output_type": "execute_result"
    }
   ],
   "source": [
    "#We recall that we have 299 rows and can see from above that we have no null values, but let's make sure:\n",
    "no_nulls = set(horse_age_outcome.columns[horse_age_outcome.isnull().mean()==0])#Provide a set of columns with 0 missing values.\n",
    "no_nulls"
   ]
  },
  {
   "cell_type": "code",
   "execution_count": 14,
   "id": "708374ee",
   "metadata": {},
   "outputs": [
    {
     "data": {
      "image/png": "[encoded data removed]",
      "text/plain": [
       "<Figure size 432x288 with 1 Axes>"
      ]
     },
     "metadata": {
      "needs_background": "light"
     },
     "output_type": "display_data"
    }
   ],
   "source": [
    "# Next lets investigate how the age groups are distributed\n",
    "horse_age_outcome.age.value_counts().plot(kind='bar', title=\"Count Of Horses By Age Group\");\n",
    "\n",
    "#Note what the age column means according to our data dictionary:\n",
    "#2: Age \n",
    "#1 = Adult horse \n",
    "#2 = Young (< 6 months) "
   ]
  },
  {
   "cell_type": "code",
   "execution_count": 15,
   "id": "d5fedd02",
   "metadata": {},
   "outputs": [
    {
     "data": {
      "text/plain": [
       "8.02675585284281"
      ]
     },
     "execution_count": 15,
     "metadata": {},
     "output_type": "execute_result"
    }
   ],
   "source": [
    "# % young horses in dataset\n",
    "(horse_age_outcome[horse_age_outcome['age']=='young'].shape[0]/horse_age_outcome.shape[0])*100"
   ]
  },
  {
   "cell_type": "code",
   "execution_count": 16,
   "id": "516d8314",
   "metadata": {},
   "outputs": [
    {
     "data": {
      "text/plain": [
       "91.9732441471572"
      ]
     },
     "execution_count": 16,
     "metadata": {},
     "output_type": "execute_result"
    }
   ],
   "source": [
    "# % adult horses in dataset\n",
    "(horse_age_outcome[horse_age_outcome['age']=='adult'].shape[0]/horse_age_outcome.shape[0])*100"
   ]
  },
  {
   "cell_type": "code",
   "execution_count": 17,
   "id": "0d82b4aa",
   "metadata": {},
   "outputs": [],
   "source": [
    "#We can easily see that we do not have a lot data on young horses in this dataset. But we can investigate what we have"
   ]
  },
  {
   "cell_type": "code",
   "execution_count": 18,
   "id": "e969da0f",
   "metadata": {},
   "outputs": [
    {
     "data": {
      "text/html": [
       "<div>\n",
       "<style scoped>\n",
       "    .dataframe tbody tr th:only-of-type {\n",
       "        vertical-align: middle;\n",
       "    }\n",
       "\n",
       "    .dataframe tbody tr th {\n",
       "        vertical-align: top;\n",
       "    }\n",
       "\n",
       "    .dataframe thead th {\n",
       "        text-align: right;\n",
       "    }\n",
       "</style>\n",
       "<table border=\"1\" class=\"dataframe\">\n",
       "  <thead>\n",
       "    <tr style=\"text-align: right;\">\n",
       "      <th></th>\n",
       "      <th></th>\n",
       "      <th>outcome</th>\n",
       "    </tr>\n",
       "    <tr>\n",
       "      <th>age</th>\n",
       "      <th>outcome</th>\n",
       "      <th></th>\n",
       "    </tr>\n",
       "  </thead>\n",
       "  <tbody>\n",
       "    <tr>\n",
       "      <th rowspan=\"3\" valign=\"top\">adult</th>\n",
       "      <th>died</th>\n",
       "      <td>66</td>\n",
       "    </tr>\n",
       "    <tr>\n",
       "      <th>euthanized</th>\n",
       "      <td>43</td>\n",
       "    </tr>\n",
       "    <tr>\n",
       "      <th>lived</th>\n",
       "      <td>166</td>\n",
       "    </tr>\n",
       "    <tr>\n",
       "      <th rowspan=\"3\" valign=\"top\">young</th>\n",
       "      <th>died</th>\n",
       "      <td>11</td>\n",
       "    </tr>\n",
       "    <tr>\n",
       "      <th>euthanized</th>\n",
       "      <td>1</td>\n",
       "    </tr>\n",
       "    <tr>\n",
       "      <th>lived</th>\n",
       "      <td>12</td>\n",
       "    </tr>\n",
       "  </tbody>\n",
       "</table>\n",
       "</div>"
      ],
      "text/plain": [
       "                  outcome\n",
       "age   outcome            \n",
       "adult died             66\n",
       "      euthanized       43\n",
       "      lived           166\n",
       "young died             11\n",
       "      euthanized        1\n",
       "      lived            12"
      ]
     },
     "execution_count": 18,
     "metadata": {},
     "output_type": "execute_result"
    }
   ],
   "source": [
    "horse_age_outcome_grouped=horse_age_outcome.groupby(['age','outcome']).agg({'outcome':'count'})\n",
    "horse_age_outcome_grouped"
   ]
  },
  {
   "cell_type": "code",
   "execution_count": 19,
   "id": "f448a38a",
   "metadata": {},
   "outputs": [
    {
     "data": {
      "image/png": "[encoded data removed]",
      "text/plain": [
       "<Figure size 432x288 with 1 Axes>"
      ]
     },
     "metadata": {
      "needs_background": "light"
     },
     "output_type": "display_data"
    }
   ],
   "source": [
    "pd.crosstab(horse_age_outcome['age'],horse_age_outcome['survived']).plot.bar(color=['red','green'], title=\"Equine Colic Case Survival By Age Group\");"
   ]
  },
  {
   "cell_type": "code",
   "execution_count": 20,
   "id": "e6285333",
   "metadata": {},
   "outputs": [
    {
     "data": {
      "text/plain": [
       "50.0"
      ]
     },
     "execution_count": 20,
     "metadata": {},
     "output_type": "execute_result"
    }
   ],
   "source": [
    "# % young horses survived\n",
    "(horse_age_outcome[(horse_age_outcome['age']=='young')&(horse_age_outcome['survived']==1)].shape[0]/horse_age_outcome[horse_age_outcome['age']=='young'].shape[0])*100"
   ]
  },
  {
   "cell_type": "code",
   "execution_count": 21,
   "id": "70fa9780",
   "metadata": {},
   "outputs": [
    {
     "data": {
      "text/plain": [
       "60.36363636363637"
      ]
     },
     "execution_count": 21,
     "metadata": {},
     "output_type": "execute_result"
    }
   ],
   "source": [
    "# % young horses survived\n",
    "(horse_age_outcome[(horse_age_outcome['age']=='adult')&(horse_age_outcome['survived']==1)].shape[0]/horse_age_outcome[horse_age_outcome['age']=='adult'].shape[0])*100"
   ]
  },
  {
   "cell_type": "code",
   "execution_count": 22,
   "id": "0c8594a2",
   "metadata": {},
   "outputs": [
    {
     "data": {
      "image/png": "[encoded data removed]",
      "text/plain": [
       "<Figure size 432x288 with 1 Axes>"
      ]
     },
     "metadata": {
      "needs_background": "light"
     },
     "output_type": "display_data"
    }
   ],
   "source": [
    "pd.crosstab(horse_age_outcome['age'],horse_age_outcome['outcome']).plot.bar(color=['red','blue','green'], title=\"Equine Colic Case Outcome By Age Group\");"
   ]
  },
  {
   "cell_type": "code",
   "execution_count": 23,
   "id": "798a9324",
   "metadata": {},
   "outputs": [
    {
     "data": {
      "text/html": [
       "<div>\n",
       "<style scoped>\n",
       "    .dataframe tbody tr th:only-of-type {\n",
       "        vertical-align: middle;\n",
       "    }\n",
       "\n",
       "    .dataframe tbody tr th {\n",
       "        vertical-align: top;\n",
       "    }\n",
       "\n",
       "    .dataframe thead th {\n",
       "        text-align: right;\n",
       "    }\n",
       "</style>\n",
       "<table border=\"1\" class=\"dataframe\">\n",
       "  <thead>\n",
       "    <tr style=\"text-align: right;\">\n",
       "      <th></th>\n",
       "      <th></th>\n",
       "      <th>survived</th>\n",
       "    </tr>\n",
       "    <tr>\n",
       "      <th>age</th>\n",
       "      <th>survived</th>\n",
       "      <th></th>\n",
       "    </tr>\n",
       "  </thead>\n",
       "  <tbody>\n",
       "    <tr>\n",
       "      <th rowspan=\"2\" valign=\"top\">adult</th>\n",
       "      <th>0</th>\n",
       "      <td>109</td>\n",
       "    </tr>\n",
       "    <tr>\n",
       "      <th>1</th>\n",
       "      <td>166</td>\n",
       "    </tr>\n",
       "    <tr>\n",
       "      <th rowspan=\"2\" valign=\"top\">young</th>\n",
       "      <th>0</th>\n",
       "      <td>12</td>\n",
       "    </tr>\n",
       "    <tr>\n",
       "      <th>1</th>\n",
       "      <td>12</td>\n",
       "    </tr>\n",
       "  </tbody>\n",
       "</table>\n",
       "</div>"
      ],
      "text/plain": [
       "                survived\n",
       "age   survived          \n",
       "adult 0              109\n",
       "      1              166\n",
       "young 0               12\n",
       "      1               12"
      ]
     },
     "execution_count": 23,
     "metadata": {},
     "output_type": "execute_result"
    }
   ],
   "source": [
    "horse_age_survived_grouped=horse_age_outcome.groupby(['age','survived']).agg({'survived':'count'})\n",
    "horse_age_survived_grouped"
   ]
  },
  {
   "cell_type": "code",
   "execution_count": 24,
   "id": "ff52e6ce",
   "metadata": {},
   "outputs": [],
   "source": [
    "#From the visuals and figures above, we see that 50% of young horses survived colic and 50% of them unfortunately did not. Where as when we compare to adult horses, a 166 horses survived and 109 did not.\n"
   ]
  },
  {
   "cell_type": "markdown",
   "id": "d0898b30",
   "metadata": {},
   "source": [
    "# Will colic surgery guarantee my horse's survival ?"
   ]
  },
  {
   "cell_type": "code",
   "execution_count": 25,
   "id": "6b61c3c2",
   "metadata": {},
   "outputs": [
    {
     "data": {
      "text/html": [
       "<div>\n",
       "<style scoped>\n",
       "    .dataframe tbody tr th:only-of-type {\n",
       "        vertical-align: middle;\n",
       "    }\n",
       "\n",
       "    .dataframe tbody tr th {\n",
       "        vertical-align: top;\n",
       "    }\n",
       "\n",
       "    .dataframe thead th {\n",
       "        text-align: right;\n",
       "    }\n",
       "</style>\n",
       "<table border=\"1\" class=\"dataframe\">\n",
       "  <thead>\n",
       "    <tr style=\"text-align: right;\">\n",
       "      <th></th>\n",
       "      <th>surgery</th>\n",
       "      <th>outcome</th>\n",
       "      <th>survived</th>\n",
       "    </tr>\n",
       "  </thead>\n",
       "  <tbody>\n",
       "    <tr>\n",
       "      <th>0</th>\n",
       "      <td>no</td>\n",
       "      <td>died</td>\n",
       "      <td>0</td>\n",
       "    </tr>\n",
       "    <tr>\n",
       "      <th>1</th>\n",
       "      <td>yes</td>\n",
       "      <td>euthanized</td>\n",
       "      <td>0</td>\n",
       "    </tr>\n",
       "    <tr>\n",
       "      <th>2</th>\n",
       "      <td>no</td>\n",
       "      <td>lived</td>\n",
       "      <td>1</td>\n",
       "    </tr>\n",
       "    <tr>\n",
       "      <th>3</th>\n",
       "      <td>yes</td>\n",
       "      <td>died</td>\n",
       "      <td>0</td>\n",
       "    </tr>\n",
       "    <tr>\n",
       "      <th>4</th>\n",
       "      <td>no</td>\n",
       "      <td>died</td>\n",
       "      <td>0</td>\n",
       "    </tr>\n",
       "  </tbody>\n",
       "</table>\n",
       "</div>"
      ],
      "text/plain": [
       "  surgery     outcome  survived\n",
       "0      no        died         0\n",
       "1     yes  euthanized         0\n",
       "2      no       lived         1\n",
       "3     yes        died         0\n",
       "4      no        died         0"
      ]
     },
     "execution_count": 25,
     "metadata": {},
     "output_type": "execute_result"
    }
   ],
   "source": [
    "#To answer this question, we will only require two columns: surgery and outcome\n",
    "horse_surgery_outcome=horse_dataset[['surgery','outcome','survived']]\n",
    "horse_surgery_outcome.head()"
   ]
  },
  {
   "cell_type": "code",
   "execution_count": 26,
   "id": "2dead8c0",
   "metadata": {},
   "outputs": [
    {
     "data": {
      "text/html": [
       "<div>\n",
       "<style scoped>\n",
       "    .dataframe tbody tr th:only-of-type {\n",
       "        vertical-align: middle;\n",
       "    }\n",
       "\n",
       "    .dataframe tbody tr th {\n",
       "        vertical-align: top;\n",
       "    }\n",
       "\n",
       "    .dataframe thead th {\n",
       "        text-align: right;\n",
       "    }\n",
       "</style>\n",
       "<table border=\"1\" class=\"dataframe\">\n",
       "  <thead>\n",
       "    <tr style=\"text-align: right;\">\n",
       "      <th></th>\n",
       "      <th>survived</th>\n",
       "    </tr>\n",
       "  </thead>\n",
       "  <tbody>\n",
       "    <tr>\n",
       "      <th>count</th>\n",
       "      <td>299.000000</td>\n",
       "    </tr>\n",
       "    <tr>\n",
       "      <th>mean</th>\n",
       "      <td>0.595318</td>\n",
       "    </tr>\n",
       "    <tr>\n",
       "      <th>std</th>\n",
       "      <td>0.491653</td>\n",
       "    </tr>\n",
       "    <tr>\n",
       "      <th>min</th>\n",
       "      <td>0.000000</td>\n",
       "    </tr>\n",
       "    <tr>\n",
       "      <th>25%</th>\n",
       "      <td>0.000000</td>\n",
       "    </tr>\n",
       "    <tr>\n",
       "      <th>50%</th>\n",
       "      <td>1.000000</td>\n",
       "    </tr>\n",
       "    <tr>\n",
       "      <th>75%</th>\n",
       "      <td>1.000000</td>\n",
       "    </tr>\n",
       "    <tr>\n",
       "      <th>max</th>\n",
       "      <td>1.000000</td>\n",
       "    </tr>\n",
       "  </tbody>\n",
       "</table>\n",
       "</div>"
      ],
      "text/plain": [
       "         survived\n",
       "count  299.000000\n",
       "mean     0.595318\n",
       "std      0.491653\n",
       "min      0.000000\n",
       "25%      0.000000\n",
       "50%      1.000000\n",
       "75%      1.000000\n",
       "max      1.000000"
      ]
     },
     "execution_count": 26,
     "metadata": {},
     "output_type": "execute_result"
    }
   ],
   "source": [
    "horse_surgery_outcome.describe()"
   ]
  },
  {
   "cell_type": "code",
   "execution_count": 27,
   "id": "a80cf484",
   "metadata": {},
   "outputs": [
    {
     "data": {
      "text/plain": [
       "{'outcome', 'surgery', 'survived'}"
      ]
     },
     "execution_count": 27,
     "metadata": {},
     "output_type": "execute_result"
    }
   ],
   "source": [
    "#We recall that we have 299 rows and can see from above that we have no null values, but let's make sure:\n",
    "no_nulls = set(horse_surgery_outcome.columns[horse_surgery_outcome.isnull().mean()==0])#Provide a set of columns with 0 missing values.\n",
    "no_nulls"
   ]
  },
  {
   "cell_type": "code",
   "execution_count": 28,
   "id": "4fcad624",
   "metadata": {},
   "outputs": [
    {
     "data": {
      "text/html": [
       "<div>\n",
       "<style scoped>\n",
       "    .dataframe tbody tr th:only-of-type {\n",
       "        vertical-align: middle;\n",
       "    }\n",
       "\n",
       "    .dataframe tbody tr th {\n",
       "        vertical-align: top;\n",
       "    }\n",
       "\n",
       "    .dataframe thead th {\n",
       "        text-align: right;\n",
       "    }\n",
       "</style>\n",
       "<table border=\"1\" class=\"dataframe\">\n",
       "  <thead>\n",
       "    <tr style=\"text-align: right;\">\n",
       "      <th></th>\n",
       "      <th></th>\n",
       "      <th>outcome</th>\n",
       "    </tr>\n",
       "    <tr>\n",
       "      <th>surgery</th>\n",
       "      <th>outcome</th>\n",
       "      <th></th>\n",
       "    </tr>\n",
       "  </thead>\n",
       "  <tbody>\n",
       "    <tr>\n",
       "      <th rowspan=\"3\" valign=\"top\">no</th>\n",
       "      <th>died</th>\n",
       "      <td>19</td>\n",
       "    </tr>\n",
       "    <tr>\n",
       "      <th>euthanized</th>\n",
       "      <td>17</td>\n",
       "    </tr>\n",
       "    <tr>\n",
       "      <th>lived</th>\n",
       "      <td>83</td>\n",
       "    </tr>\n",
       "    <tr>\n",
       "      <th rowspan=\"3\" valign=\"top\">yes</th>\n",
       "      <th>died</th>\n",
       "      <td>58</td>\n",
       "    </tr>\n",
       "    <tr>\n",
       "      <th>euthanized</th>\n",
       "      <td>27</td>\n",
       "    </tr>\n",
       "    <tr>\n",
       "      <th>lived</th>\n",
       "      <td>95</td>\n",
       "    </tr>\n",
       "  </tbody>\n",
       "</table>\n",
       "</div>"
      ],
      "text/plain": [
       "                    outcome\n",
       "surgery outcome            \n",
       "no      died             19\n",
       "        euthanized       17\n",
       "        lived            83\n",
       "yes     died             58\n",
       "        euthanized       27\n",
       "        lived            95"
      ]
     },
     "execution_count": 28,
     "metadata": {},
     "output_type": "execute_result"
    }
   ],
   "source": [
    "horse_surgery_outcome_grouped=horse_surgery_outcome.groupby(['surgery','outcome']).agg({'outcome':'count'})\n",
    "horse_surgery_outcome_grouped"
   ]
  },
  {
   "cell_type": "code",
   "execution_count": 29,
   "id": "e67a2ff2",
   "metadata": {},
   "outputs": [
    {
     "data": {
      "image/png": "[encoded data removed]",
      "text/plain": [
       "<Figure size 432x288 with 1 Axes>"
      ]
     },
     "metadata": {
      "needs_background": "light"
     },
     "output_type": "display_data"
    }
   ],
   "source": [
    "# Next lets investigate how the surgery groups are distributed\n",
    "horse_surgery_outcome.surgery.value_counts().plot(kind='bar', title=\"Count Of Horses Treated With Surgery\");\n",
    "\n",
    "#Note what the surgery column means according tour data dictionary:\n",
    "#1: surgery? \n",
    "#yes = Yes, it had surgery \n",
    "#no = It was treated without surgery  "
   ]
  },
  {
   "cell_type": "code",
   "execution_count": 30,
   "id": "d54931b0",
   "metadata": {},
   "outputs": [],
   "source": [
    "#We can see quite a few more horses had surgery than those treated without it.\n",
    "horses_surgery=round(horse_surgery_outcome[horse_surgery_outcome['surgery']=='yes'].shape[0]/horse_surgery_outcome.shape[0],3)\n",
    "horses_no_surgery=round(horse_surgery_outcome[horse_surgery_outcome['surgery']=='no'].shape[0]/horse_surgery_outcome.shape[0],3)\n"
   ]
  },
  {
   "cell_type": "code",
   "execution_count": 31,
   "id": "b915ff82",
   "metadata": {},
   "outputs": [
    {
     "name": "stdout",
     "output_type": "stream",
     "text": [
      "Horses treated with surgery  0.602 %\n",
      "Horses treated without surgery  0.398 %\n"
     ]
    }
   ],
   "source": [
    "print(\"Horses treated with surgery \",horses_surgery,\"%\")\n",
    "print(\"Horses treated without surgery \",horses_no_surgery,\"%\")"
   ]
  },
  {
   "cell_type": "code",
   "execution_count": 32,
   "id": "de4e3b44",
   "metadata": {},
   "outputs": [
    {
     "data": {
      "image/png": "[encoded data removed]",
      "text/plain": [
       "<Figure size 432x288 with 1 Axes>"
      ]
     },
     "metadata": {
      "needs_background": "light"
     },
     "output_type": "display_data"
    }
   ],
   "source": [
    "pd.crosstab(horse_surgery_outcome['surgery'],horse_surgery_outcome['survived']).plot.bar(color=['red','green'], title=\"Equine Colic Surgery Outcomes\");\n"
   ]
  },
  {
   "cell_type": "code",
   "execution_count": 33,
   "id": "30b13f19",
   "metadata": {},
   "outputs": [],
   "source": [
    "#The chart above clearly shows us that unfortunately surgery does not always guarantee that your horse will survive colic."
   ]
  },
  {
   "cell_type": "code",
   "execution_count": 34,
   "id": "158f10ae",
   "metadata": {},
   "outputs": [
    {
     "data": {
      "text/plain": [
       "52.77777777777778"
      ]
     },
     "execution_count": 34,
     "metadata": {},
     "output_type": "execute_result"
    }
   ],
   "source": [
    "# % horses treated with surgery and survived\n",
    "(horse_surgery_outcome[(horse_surgery_outcome['surgery']=='yes')&(horse_surgery_outcome['survived']==1)].shape[0]/horse_surgery_outcome[horse_surgery_outcome['surgery']=='yes'].shape[0])*100"
   ]
  },
  {
   "cell_type": "markdown",
   "id": "cb2e8e4a",
   "metadata": {},
   "source": [
    "# Which of the vital signs or symptoms, that I can check as a horse owner, are the best indicators that my horse might require surgery ?"
   ]
  },
  {
   "cell_type": "markdown",
   "id": "f9a1fe56",
   "metadata": {},
   "source": [
    "## Which symptoms or vital signs can I check while waiting on my vet ?"
   ]
  },
  {
   "cell_type": "markdown",
   "id": "2fe55a0b",
   "metadata": {},
   "source": [
    " Some helpful articles can be found here:\n",
    " https://thehorse.com/133159/normal-horse-vitals-signs-and-health-indicators/\n",
    " https://thehorse.com/features/dealing-with-equine-colic/\n",
    " Based on these articles, we can use the following features found in our dataset:\n",
    " - rectal temperature, \n",
    " - pulse, \n",
    " - respiratory rate, \n",
    " - mucous membranes, \n",
    " - capillary refill time, \n",
    " - abdominal distension, \n",
    " - peristalsis"
   ]
  },
  {
   "cell_type": "code",
   "execution_count": 35,
   "id": "73a46e82",
   "metadata": {},
   "outputs": [
    {
     "data": {
      "text/html": [
       "<div>\n",
       "<style scoped>\n",
       "    .dataframe tbody tr th:only-of-type {\n",
       "        vertical-align: middle;\n",
       "    }\n",
       "\n",
       "    .dataframe tbody tr th {\n",
       "        vertical-align: top;\n",
       "    }\n",
       "\n",
       "    .dataframe thead th {\n",
       "        text-align: right;\n",
       "    }\n",
       "</style>\n",
       "<table border=\"1\" class=\"dataframe\">\n",
       "  <thead>\n",
       "    <tr style=\"text-align: right;\">\n",
       "      <th></th>\n",
       "      <th>rectal_temp</th>\n",
       "      <th>pulse</th>\n",
       "      <th>respiratory_rate</th>\n",
       "      <th>mucous_membrane</th>\n",
       "      <th>capillary_refill_time</th>\n",
       "      <th>abdominal_distention</th>\n",
       "      <th>peristalsis</th>\n",
       "      <th>surgery</th>\n",
       "    </tr>\n",
       "  </thead>\n",
       "  <tbody>\n",
       "    <tr>\n",
       "      <th>0</th>\n",
       "      <td>38.5</td>\n",
       "      <td>66.0</td>\n",
       "      <td>28.0</td>\n",
       "      <td>NaN</td>\n",
       "      <td>more_3_sec</td>\n",
       "      <td>severe</td>\n",
       "      <td>absent</td>\n",
       "      <td>no</td>\n",
       "    </tr>\n",
       "    <tr>\n",
       "      <th>1</th>\n",
       "      <td>39.2</td>\n",
       "      <td>88.0</td>\n",
       "      <td>20.0</td>\n",
       "      <td>pale_cyanotic</td>\n",
       "      <td>less_3_sec</td>\n",
       "      <td>slight</td>\n",
       "      <td>absent</td>\n",
       "      <td>yes</td>\n",
       "    </tr>\n",
       "    <tr>\n",
       "      <th>2</th>\n",
       "      <td>38.3</td>\n",
       "      <td>40.0</td>\n",
       "      <td>24.0</td>\n",
       "      <td>pale_pink</td>\n",
       "      <td>less_3_sec</td>\n",
       "      <td>none</td>\n",
       "      <td>hypomotile</td>\n",
       "      <td>no</td>\n",
       "    </tr>\n",
       "    <tr>\n",
       "      <th>3</th>\n",
       "      <td>39.1</td>\n",
       "      <td>164.0</td>\n",
       "      <td>84.0</td>\n",
       "      <td>dark_cyanotic</td>\n",
       "      <td>more_3_sec</td>\n",
       "      <td>severe</td>\n",
       "      <td>absent</td>\n",
       "      <td>yes</td>\n",
       "    </tr>\n",
       "    <tr>\n",
       "      <th>4</th>\n",
       "      <td>37.3</td>\n",
       "      <td>104.0</td>\n",
       "      <td>35.0</td>\n",
       "      <td>dark_cyanotic</td>\n",
       "      <td>more_3_sec</td>\n",
       "      <td>NaN</td>\n",
       "      <td>NaN</td>\n",
       "      <td>no</td>\n",
       "    </tr>\n",
       "  </tbody>\n",
       "</table>\n",
       "</div>"
      ],
      "text/plain": [
       "   rectal_temp  pulse  respiratory_rate mucous_membrane capillary_refill_time  \\\n",
       "0         38.5   66.0              28.0             NaN            more_3_sec   \n",
       "1         39.2   88.0              20.0   pale_cyanotic            less_3_sec   \n",
       "2         38.3   40.0              24.0       pale_pink            less_3_sec   \n",
       "3         39.1  164.0              84.0   dark_cyanotic            more_3_sec   \n",
       "4         37.3  104.0              35.0   dark_cyanotic            more_3_sec   \n",
       "\n",
       "  abdominal_distention peristalsis surgery  \n",
       "0               severe      absent      no  \n",
       "1               slight      absent     yes  \n",
       "2                 none  hypomotile      no  \n",
       "3               severe      absent     yes  \n",
       "4                  NaN         NaN      no  "
      ]
     },
     "execution_count": 35,
     "metadata": {},
     "output_type": "execute_result"
    }
   ],
   "source": [
    "# Lets put these in a list, along with our y variable (surgery), so we can create a subset for our model\n",
    "owner_check_vitals=[\n",
    "'rectal_temp', \n",
    "'pulse', \n",
    "'respiratory_rate', \n",
    "'mucous_membrane', \n",
    "'capillary_refill_time', \n",
    "'abdominal_distention', \n",
    "'peristalsis',\n",
    "'surgery'\n",
    "]\n",
    "\n",
    "owner_check_vitals_df=horse_dataset[owner_check_vitals]\n",
    "owner_check_vitals_df.head()\n"
   ]
  },
  {
   "cell_type": "code",
   "execution_count": 36,
   "id": "4fd52216",
   "metadata": {},
   "outputs": [
    {
     "data": {
      "text/plain": [
       "{'surgery'}"
      ]
     },
     "execution_count": 36,
     "metadata": {},
     "output_type": "execute_result"
    }
   ],
   "source": [
    "#Check for any null values\n",
    "no_nulls = set(owner_check_vitals_df.columns[owner_check_vitals_df.isnull().mean()==0])#Provide a set of columns with 0 missing values.\n",
    "no_nulls"
   ]
  },
  {
   "cell_type": "code",
   "execution_count": 37,
   "id": "53cf7885",
   "metadata": {},
   "outputs": [],
   "source": [
    "#From the above we can see that only the surgery column has no NaN values. So we will go through each column - \n",
    "#if it has >80% null values, we will drop it, alternatively we will impute values\n",
    "#Important to note our ML model will not accept null values\n",
    "#If a column has more than 80% null values, it means that this column will not be useful to us. \n",
    "#There is not enough data to calculate a reliable mean or mode, this could be dangerous\n",
    "#so we will drop any colum with >80% null values as there is not enough data\n",
    "#If the column has <80% null values, we can replace missing values (impute)"
   ]
  },
  {
   "cell_type": "code",
   "execution_count": 50,
   "id": "2ac84216",
   "metadata": {},
   "outputs": [
    {
     "name": "stdout",
     "output_type": "stream",
     "text": [
      "rectal_temp   0.5127072679373949\n",
      "pulse   0.2727272727272728\n",
      "respiratory_rate   0.255233874009808\n",
      "mucous_membrane   0    normal_pink\n",
      "dtype: object\n",
      "capillary_refill_time   0    less_3_sec\n",
      "dtype: object\n",
      "abdominal_distention   0    none\n",
      "dtype: object\n",
      "peristalsis   0    hypomotile\n",
      "dtype: object\n",
      "surgery   0    yes\n",
      "dtype: object\n"
     ]
    }
   ],
   "source": [
    "\n",
    "\n",
    "#Identify the types of features in our dataset:\n",
    "continuous_columns=['rectal_temp','pulse','respiratory_rate']\n",
    "categorical_columns=['mucous_membrane','capillary_refill_time','abdominal_distention','peristalsis','surgery']\n",
    "\n",
    "\n"
   ]
  },
  {
   "cell_type": "code",
   "execution_count": 52,
   "id": "12d8eca8",
   "metadata": {},
   "outputs": [
    {
     "name": "stdout",
     "output_type": "stream",
     "text": [
      "rectal_temp   0.5127072679373949\n",
      "pulse   0.2727272727272728\n",
      "respiratory_rate   0.255233874009808\n",
      "mucous_membrane   normal_pink\n",
      "capillary_refill_time   less_3_sec\n",
      "abdominal_distention   none\n",
      "peristalsis   hypomotile\n",
      "surgery   yes\n"
     ]
    }
   ],
   "source": [
    "#The function below will help us to determine whether it is safe to impute with a mean or mode\n",
    "\n",
    "def print_mean_or_mode(df,continuous_columns,categorical_columns):\n",
    "    '''\n",
    "    INPUT: a dataframe, a list of continuous features, a list of categorical features\n",
    "    OUTPUT: prints the mean or mode for each feature, so it can be compared to the datadictionary and a decision can be \n",
    "    made whether it is safe to impute\n",
    "    '''\n",
    "    for co in continuous_columns:\n",
    "        print(co,\" \",df[co].mean())\n",
    "\n",
    "    for ca in categorical_columns:\n",
    "        print(ca,\" \",df[ca].mode()[0])\n",
    "        \n",
    "print_mean_or_mode(owner_check_vitals_df,continuous_columns,categorical_columns)\n"
   ]
  },
  {
   "cell_type": "code",
   "execution_count": null,
   "id": "dad45e5b",
   "metadata": {},
   "outputs": [],
   "source": [
    "#Continuous columns will be imputed with the normal values in our data dictionary (what is seen as healthy)\n",
    "#Categorical columns will be imputed with the mode, which will be the most commonly observed value amongst all horses and is aligned with normal values in our datadictionary\n"
   ]
  },
  {
   "cell_type": "code",
   "execution_count": 39,
   "id": "a708f7ac",
   "metadata": {},
   "outputs": [
    {
     "name": "stderr",
     "output_type": "stream",
     "text": [
      "C:\\Users\\jdevilliers\\Anaconda3\\lib\\site-packages\\pandas\\core\\series.py:4463: SettingWithCopyWarning: \n",
      "A value is trying to be set on a copy of a slice from a DataFrame\n",
      "\n",
      "See the caveats in the documentation: https://pandas.pydata.org/pandas-docs/stable/user_guide/indexing.html#returning-a-view-versus-a-copy\n",
      "  return super().fillna(\n"
     ]
    }
   ],
   "source": [
    "#Fill continuous features with mean\n",
    "for col in continuous_columns:\n",
    "    percentage_null_values=owner_check_vitals_df[col].isnull().sum()/owner_check_vitals_df.shape[0]\n",
    "    if percentage_null_values>0.8:\n",
    "        owner_check_vitals_df.drop(columns=col, inplace=True)\n",
    "    else:\n",
    "        owner_check_vitals_df.fillna(value={col:owner_check_vitals_df[col].mean()}, inplace=True)\n",
    "\n",
    "#Fill categorical features with mode\n",
    "for col in categorical_columns:\n",
    "    percentage_null_values=owner_check_vitals_df[col].isnull().sum()/owner_check_vitals_df.shape[0]\n",
    "    if percentage_null_values>0.8:\n",
    "        owner_check_vitals_df.drop(columns=col, inplace=True)\n",
    "    else:\n",
    "        owner_check_vitals_df.fillna(value={col:owner_check_vitals_df[col].mode()[0]}, inplace=True)"
   ]
  },
  {
   "cell_type": "code",
   "execution_count": 40,
   "id": "48b7de35",
   "metadata": {},
   "outputs": [
    {
     "data": {
      "image/png": "[encoded data removed]",
      "text/plain": [
       "<Figure size 360x360 with 1 Axes>"
      ]
     },
     "metadata": {
      "needs_background": "light"
     },
     "output_type": "display_data"
    },
    {
     "data": {
      "image/png": "[encoded data removed]",
      "text/plain": [
       "<Figure size 360x360 with 1 Axes>"
      ]
     },
     "metadata": {
      "needs_background": "light"
     },
     "output_type": "display_data"
    },
    {
     "data": {
      "image/png": "[encoded data removed]",
      "text/plain": [
       "<Figure size 360x360 with 1 Axes>"
      ]
     },
     "metadata": {
      "needs_background": "light"
     },
     "output_type": "display_data"
    }
   ],
   "source": [
    "# See if we have any outliers\n",
    "for col in continuous_columns:\n",
    "    sns.displot(owner_check_vitals_df, x=col)\n"
   ]
  },
  {
   "cell_type": "code",
   "execution_count": 41,
   "id": "fa30c71c",
   "metadata": {},
   "outputs": [
    {
     "data": {
      "text/html": [
       "<div>\n",
       "<style scoped>\n",
       "    .dataframe tbody tr th:only-of-type {\n",
       "        vertical-align: middle;\n",
       "    }\n",
       "\n",
       "    .dataframe tbody tr th {\n",
       "        vertical-align: top;\n",
       "    }\n",
       "\n",
       "    .dataframe thead th {\n",
       "        text-align: right;\n",
       "    }\n",
       "</style>\n",
       "<table border=\"1\" class=\"dataframe\">\n",
       "  <thead>\n",
       "    <tr style=\"text-align: right;\">\n",
       "      <th></th>\n",
       "      <th>rectal_temp</th>\n",
       "      <th>pulse</th>\n",
       "      <th>respiratory_rate</th>\n",
       "      <th>mucous_membrane</th>\n",
       "      <th>capillary_refill_time</th>\n",
       "      <th>abdominal_distention</th>\n",
       "      <th>peristalsis</th>\n",
       "      <th>surgery</th>\n",
       "    </tr>\n",
       "  </thead>\n",
       "  <tbody>\n",
       "    <tr>\n",
       "      <th>0</th>\n",
       "      <td>0.574074</td>\n",
       "      <td>0.233766</td>\n",
       "      <td>0.227273</td>\n",
       "      <td>normal_pink</td>\n",
       "      <td>more_3_sec</td>\n",
       "      <td>severe</td>\n",
       "      <td>absent</td>\n",
       "      <td>no</td>\n",
       "    </tr>\n",
       "    <tr>\n",
       "      <th>1</th>\n",
       "      <td>0.703704</td>\n",
       "      <td>0.376623</td>\n",
       "      <td>0.136364</td>\n",
       "      <td>pale_cyanotic</td>\n",
       "      <td>less_3_sec</td>\n",
       "      <td>slight</td>\n",
       "      <td>absent</td>\n",
       "      <td>yes</td>\n",
       "    </tr>\n",
       "    <tr>\n",
       "      <th>2</th>\n",
       "      <td>0.537037</td>\n",
       "      <td>0.064935</td>\n",
       "      <td>0.181818</td>\n",
       "      <td>pale_pink</td>\n",
       "      <td>less_3_sec</td>\n",
       "      <td>none</td>\n",
       "      <td>hypomotile</td>\n",
       "      <td>no</td>\n",
       "    </tr>\n",
       "    <tr>\n",
       "      <th>3</th>\n",
       "      <td>0.685185</td>\n",
       "      <td>0.870130</td>\n",
       "      <td>0.863636</td>\n",
       "      <td>dark_cyanotic</td>\n",
       "      <td>more_3_sec</td>\n",
       "      <td>severe</td>\n",
       "      <td>absent</td>\n",
       "      <td>yes</td>\n",
       "    </tr>\n",
       "    <tr>\n",
       "      <th>4</th>\n",
       "      <td>0.351852</td>\n",
       "      <td>0.480519</td>\n",
       "      <td>0.306818</td>\n",
       "      <td>dark_cyanotic</td>\n",
       "      <td>more_3_sec</td>\n",
       "      <td>none</td>\n",
       "      <td>hypomotile</td>\n",
       "      <td>no</td>\n",
       "    </tr>\n",
       "  </tbody>\n",
       "</table>\n",
       "</div>"
      ],
      "text/plain": [
       "   rectal_temp     pulse  respiratory_rate mucous_membrane  \\\n",
       "0     0.574074  0.233766          0.227273     normal_pink   \n",
       "1     0.703704  0.376623          0.136364   pale_cyanotic   \n",
       "2     0.537037  0.064935          0.181818       pale_pink   \n",
       "3     0.685185  0.870130          0.863636   dark_cyanotic   \n",
       "4     0.351852  0.480519          0.306818   dark_cyanotic   \n",
       "\n",
       "  capillary_refill_time abdominal_distention peristalsis surgery  \n",
       "0            more_3_sec               severe      absent      no  \n",
       "1            less_3_sec               slight      absent     yes  \n",
       "2            less_3_sec                 none  hypomotile      no  \n",
       "3            more_3_sec               severe      absent     yes  \n",
       "4            more_3_sec                 none  hypomotile      no  "
      ]
     },
     "metadata": {},
     "output_type": "display_data"
    }
   ],
   "source": [
    "#Normalize the above continuous features\n",
    "# Import sklearn.preprocessing.StandardScaler\n",
    "from sklearn.preprocessing import MinMaxScaler\n",
    "\n",
    "# Initialize a scaler, then apply it to the features\n",
    "scaler = MinMaxScaler() # default=(0, 1)\n",
    "\n",
    "owner_check_vitals_minmax_transform = pd.DataFrame(data = owner_check_vitals_df)\n",
    "owner_check_vitals_minmax_transform[continuous_columns] = scaler.fit_transform(owner_check_vitals_df[continuous_columns])\n",
    "\n",
    "# Show an example of a record with scaling applied\n",
    "display(owner_check_vitals_minmax_transform.head(n = 5))"
   ]
  },
  {
   "cell_type": "code",
   "execution_count": 42,
   "id": "4910a569",
   "metadata": {},
   "outputs": [],
   "source": [
    "#Split out the outcome column (surgery)\n",
    "surgery=owner_check_vitals_minmax_transform['surgery']\n",
    "#Encode surgery to numeric values\n",
    "outcome_surgery = surgery.map({'no':0,'yes':1})\n",
    "#Drop surgery column from the dataset\n",
    "owner_check_vitals_minmax_transform.drop(columns='surgery', inplace=True)"
   ]
  },
  {
   "cell_type": "code",
   "execution_count": 43,
   "id": "50098da3",
   "metadata": {},
   "outputs": [],
   "source": [
    "#One-hot encode the 'owner_check_vitals_minmax_transform' data using pandas.get_dummies()\n",
    "vitals_final = pd.get_dummies(owner_check_vitals_minmax_transform)"
   ]
  },
  {
   "cell_type": "code",
   "execution_count": 44,
   "id": "3425b070",
   "metadata": {},
   "outputs": [
    {
     "name": "stdout",
     "output_type": "stream",
     "text": [
      "Training set has 239 samples.\n",
      "Testing set has 60 samples.\n"
     ]
    }
   ],
   "source": [
    "# Import train_test_split\n",
    "from sklearn.model_selection import train_test_split\n",
    "\n",
    "# Split the 'vitals' and 'surgery' data into training and testing sets\n",
    "X_train, X_test, y_train, y_test = train_test_split(vitals_final, \n",
    "                                                    outcome_surgery, \n",
    "                                                    test_size = 0.2, \n",
    "                                                    random_state = 0)\n",
    "\n",
    "# Show the results of the split\n",
    "print(\"Training set has {} samples.\".format(X_train.shape[0]))\n",
    "print(\"Testing set has {} samples.\".format(X_test.shape[0]))"
   ]
  },
  {
   "cell_type": "code",
   "execution_count": 45,
   "id": "449ebb57",
   "metadata": {},
   "outputs": [
    {
     "name": "stdout",
     "output_type": "stream",
     "text": [
      "LogisticRegression trained.\n"
     ]
    }
   ],
   "source": [
    "#Now we can build our model\n",
    "from sklearn.linear_model import LogisticRegression\n",
    "from sklearn.metrics import fbeta_score,accuracy_score\n",
    "\n",
    "#Initialise the model\n",
    "logistic_regression_model = LogisticRegression(random_state=42)\n",
    "\n",
    "#Fit the model to the training data\n",
    "logistic_regression_model = logistic_regression_model.fit(X_train,y_train)\n",
    "    \n",
    "        \n",
    "#Get the predictions on the test set(X_test),\n",
    "predictions_test = logistic_regression_model.predict(X_test)\n",
    "predictions_train = logistic_regression_model.predict(X_train)\n",
    "\n",
    "#Compute accuracy on the first 300 training samples which is y_train[:300]\n",
    "accuracy_train = accuracy_score(y_train, predictions_train)\n",
    "accuracy_test = accuracy_score(y_test,predictions_test)\n",
    "    \n",
    "#Compute F-score using fbeta_score()\n",
    "f_train= fbeta_score(y_train, predictions_train, beta=0.5)\n",
    "f_test = fbeta_score(y_test,predictions_test, beta=0.5)\n",
    "       \n",
    "# Success\n",
    "print(\"{} trained.\".format(logistic_regression_model.__class__.__name__))\n"
   ]
  },
  {
   "cell_type": "code",
   "execution_count": 46,
   "id": "2e2a6c6b",
   "metadata": {},
   "outputs": [
    {
     "name": "stdout",
     "output_type": "stream",
     "text": [
      "Training Accuracy Score:  0.6736401673640168\n",
      "Testing Accuracy Score:  0.7333333333333333\n",
      "Training beta score 0.7097989949748743\n",
      "Testing beta score 0.78125\n"
     ]
    }
   ],
   "source": [
    "print(\"Training Accuracy Score: \",accuracy_train)\n",
    "print(\"Testing Accuracy Score: \",accuracy_test)\n",
    "print(\"Training beta score\",f_train )\n",
    "print(\"Testing beta score\",f_test )"
   ]
  },
  {
   "cell_type": "code",
   "execution_count": 47,
   "id": "30b62492",
   "metadata": {},
   "outputs": [
    {
     "data": {
      "image/png": "[encoded data removed]",
      "text/plain": [
       "<Figure size 432x288 with 1 Axes>"
      ]
     },
     "metadata": {
      "needs_background": "light"
     },
     "output_type": "display_data"
    }
   ],
   "source": [
    "importances = pd.DataFrame(data={\n",
    "    'Attribute': X_train.columns,\n",
    "    'Importance': logistic_regression_model.coef_[0]\n",
    "})\n",
    "importances = importances.sort_values(by='Importance', ascending=False)\n",
    "plt.bar(x=importances['Attribute'], height=importances['Importance'], color='#087E8B')\n",
    "plt.title('Feature importances obtained from coefficients', size=20)\n",
    "plt.xticks(rotation='vertical')\n",
    "plt.rcParams[\"figure.figsize\"] = (5,5)\n",
    "plt.show()"
   ]
  },
  {
   "cell_type": "code",
   "execution_count": null,
   "id": "88c2e4c7",
   "metadata": {},
   "outputs": [],
   "source": []
  }
 ],
 "metadata": {
  "kernelspec": {
   "display_name": "Python 3",
   "language": "python",
   "name": "python3"
  },
  "language_info": {
   "codemirror_mode": {
    "name": "ipython",
    "version": 3
   },
   "file_extension": ".py",
   "mimetype": "text/x-python",
   "name": "python",
   "nbconvert_exporter": "python",
   "pygments_lexer": "ipython3",
   "version": "3.8.10"
  }
 },
 "nbformat": 4,
 "nbformat_minor": 5
}
